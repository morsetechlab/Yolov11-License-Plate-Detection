{
  "cells": [
    {
      "cell_type": "code",
      "execution_count": null,
      "metadata": {
        "colab": {
          "base_uri": "https://localhost:8080/"
        },
        "id": "doV8a-Xzy3PA",
        "outputId": "8fedd602-f95c-4b1f-b6a9-c659b1039a29"
      },
      "outputs": [],
      "source": [
        "!nvidia-smi"
      ]
    },
    {
      "cell_type": "markdown",
      "metadata": {
        "id": "HQlwfuwHzEAQ"
      },
      "source": [
        "# Setup & Install Ultralytics"
      ]
    },
    {
      "cell_type": "code",
      "execution_count": null,
      "metadata": {
        "colab": {
          "base_uri": "https://localhost:8080/"
        },
        "id": "986W6bwEyqng",
        "outputId": "7034f245-b646-4e1c-9465-65bd6c84edbc"
      },
      "outputs": [],
      "source": [
        "!pip install ultralytics roboflow --upgrade -q\n",
        "\n",
        "import ultralytics\n",
        "ultralytics.checks()"
      ]
    },
    {
      "cell_type": "markdown",
      "metadata": {
        "id": "t6_19vo7zJns"
      },
      "source": [
        "# Connect Google Drive"
      ]
    },
    {
      "cell_type": "code",
      "execution_count": null,
      "metadata": {
        "colab": {
          "base_uri": "https://localhost:8080/"
        },
        "id": "LpcVpvufzHMW",
        "outputId": "e1236d98-f4a5-434b-c84f-a9efc54f92a3"
      },
      "outputs": [],
      "source": [
        "from google.colab import drive\n",
        "drive.mount('/content/drive')"
      ]
    },
    {
      "cell_type": "code",
      "execution_count": null,
      "metadata": {
        "id": "jDuiawi3z8_9"
      },
      "outputs": [],
      "source": [
        "import os\n",
        "\n",
        "project_dir = \"/content/drive/MyDrive/Colab Notebooks/Computer Vision Workshop/License Plate Detection\"\n",
        "os.makedirs(project_dir, exist_ok=True)\n",
        "os.chdir(project_dir)"
      ]
    },
    {
      "cell_type": "code",
      "execution_count": null,
      "metadata": {
        "id": "lm5amXWF0Arm"
      },
      "outputs": [],
      "source": [
        "!pwd"
      ]
    },
    {
      "cell_type": "markdown",
      "metadata": {
        "id": "dg9JDnxjzQNt"
      },
      "source": [
        "# Load Dataset from Roboflow"
      ]
    },
    {
      "cell_type": "code",
      "execution_count": null,
      "metadata": {
        "id": "Fz4lSs4Frx4j"
      },
      "outputs": [],
      "source": [
        "!pip install roboflow\n",
        "\n",
        "from roboflow import Roboflow\n",
        "rf = Roboflow(api_key=\"your-api-key\") # Roboflow API key\n",
        "project = rf.workspace(\"roboflow-universe-projects\").project(\"license-plate-recognition-rxg4e\")\n",
        "version = project.version(11)\n",
        "dataset = version.download(\"yolov11\")"
      ]
    },
    {
      "cell_type": "code",
      "execution_count": null,
      "metadata": {
        "colab": {
          "base_uri": "https://localhost:8080/"
        },
        "id": "DEN1N-lB0iML",
        "outputId": "aa72720f-7c08-425a-e857-0cc90e1ca5df"
      },
      "outputs": [],
      "source": [
        "!ls"
      ]
    },
    {
      "cell_type": "code",
      "execution_count": null,
      "metadata": {
        "id": "C8wt8NIl1mYW"
      },
      "outputs": [],
      "source": [
        "dataset.location"
      ]
    },
    {
      "cell_type": "code",
      "execution_count": null,
      "metadata": {
        "colab": {
          "base_uri": "https://localhost:8080/",
          "height": 493
        },
        "id": "827Y1-4A18wG",
        "outputId": "520e78ce-6738-420d-ca90-861090a94522"
      },
      "outputs": [],
      "source": [
        "import os\n",
        "import matplotlib.pyplot as plt\n",
        "import cv2\n",
        "\n",
        "# Base directory from Roboflow dataset or your own custom structure\n",
        "# base_path = dataset.location  # or \"/content/drive/...\" if use Google Drive\n",
        "base_path = \"/content/drive/MyDrive/Colab Notebooks/Computer Vision Workshop/License Plate Detection/License-Plate-Recognition-11\"\n",
        "\n",
        "# Your folder names: train / valid / test\n",
        "sets = ['train', 'valid', 'test']\n",
        "image_paths = []\n",
        "\n",
        "# Collect 4 images from each subset\n",
        "for split in sets:\n",
        "    img_dir = os.path.join(base_path, split, 'images')\n",
        "    if os.path.exists(img_dir):\n",
        "        all_images = sorted(os.listdir(img_dir))\n",
        "        sample_images = all_images[:4]  # Get first 4 images\n",
        "        image_paths.extend([os.path.join(img_dir, img) for img in sample_images])\n",
        "    else:\n",
        "        print(f\"Folder not found: {img_dir}\")\n",
        "\n",
        "# Plot images in 3 rows and 4 columns\n",
        "fig, axs = plt.subplots(3, 4, figsize=(16, 10))\n",
        "fig.suptitle('Sample Images from Train / Valid / Test Sets', fontsize=18)\n",
        "\n",
        "for i, img_path in enumerate(image_paths):\n",
        "    img = cv2.imread(img_path)\n",
        "    img = cv2.cvtColor(img, cv2.COLOR_BGR2RGB)\n",
        "    row = i // 4\n",
        "    col = i % 4\n",
        "    axs[row, col].imshow(img)\n",
        "    axs[row, col].set_title(os.path.basename(img_path), fontsize=10)\n",
        "    axs[row, col].axis('off')\n",
        "\n",
        "plt.tight_layout(rect=[0, 0, 1, 0.95])\n",
        "plt.show()\n"
      ]
    },
    {
      "cell_type": "markdown",
      "metadata": {
        "id": "ZuhXWHXDzeCu"
      },
      "source": [
        "# Fine Tuning using YOLOv11\n",
        "\n",
        "---\n",
        "\n"
      ]
    },
    {
      "cell_type": "markdown",
      "metadata": {
        "id": "UqJ3H2KfGHjx"
      },
      "source": [
        "## Resume Tuning"
      ]
    },
    {
      "cell_type": "code",
      "execution_count": null,
      "metadata": {
        "id": "r2e7XAUMFBy5"
      },
      "outputs": [],
      "source": [
        "from ultralytics import YOLO\n",
        "\n",
        "# load lasted weight (last.pt) from /runs/{task}/...\n",
        "model = YOLO(f\"{project_dir}/runs/detect/license-plate-finetune-v1n/weights/last.pt\")\n",
        "\n",
        "# resume training..\n",
        "model.train(\n",
        "    resume=True\n",
        ")\n"
      ]
    },
    {
      "cell_type": "markdown",
      "metadata": {
        "id": "nxaDWlGBB37O"
      },
      "source": [
        "## Fine Tuning Model"
      ]
    },
    {
      "cell_type": "code",
      "execution_count": null,
      "metadata": {
        "colab": {
          "base_uri": "https://localhost:8080/"
        },
        "id": "HhmW19LBzM64",
        "outputId": "e9b0500c-66ba-4f14-fdab-6f8be0579f41"
      },
      "outputs": [],
      "source": [
        "from ultralytics import YOLO\n",
        "\n",
        "model = YOLO(\"yolo11n.pt\")\n",
        "\n",
        "model.train(\n",
        "    data=f\"{base_path}/data.yaml\",\n",
        "    epochs=300,\n",
        "    imgsz=640,\n",
        "    batch=16,\n",
        "    name=\"license-plate-finetune-v1n\",\n",
        "    device=0, # GPU\n",
        "    patience=15, # early stopping if not improve\n",
        "    workers=2,\n",
        "    val=True\n",
        ")"
      ]
    },
    {
      "cell_type": "markdown",
      "metadata": {
        "id": "kf9XARJUuCay"
      },
      "source": [
        "## Validation"
      ]
    },
    {
      "cell_type": "code",
      "execution_count": null,
      "metadata": {
        "colab": {
          "base_uri": "https://localhost:8080/"
        },
        "id": "VEXtVKuA5Wel",
        "outputId": "592be4fe-f217-4742-fa20-8a9059499232"
      },
      "outputs": [],
      "source": [
        "!pwd"
      ]
    },
    {
      "cell_type": "code",
      "execution_count": null,
      "metadata": {
        "id": "nfGRhJW8uGM8"
      },
      "outputs": [],
      "source": [
        "from ultralytics import YOLO\n",
        "\n",
        "model = YOLO(f\"{project_dir}/runs/detect/license-plate-finetune-v1n/weights/best.pt\")\n",
        "\n",
        "metrics = model.val()"
      ]
    },
    {
      "cell_type": "markdown",
      "metadata": {
        "id": "TSwu5HjGuLzQ"
      },
      "source": [
        "## Evaluate"
      ]
    },
    {
      "cell_type": "code",
      "execution_count": null,
      "metadata": {
        "colab": {
          "base_uri": "https://localhost:8080/"
        },
        "id": "x5bnLZaM4WK8",
        "outputId": "dc563763-10a8-45b0-803d-9b875a7c218c"
      },
      "outputs": [],
      "source": [
        "# mAP, Precision, Recall, F1\n",
        "print(metrics)"
      ]
    },
    {
      "cell_type": "code",
      "execution_count": null,
      "metadata": {
        "colab": {
          "base_uri": "https://localhost:8080/",
          "height": 427
        },
        "id": "FlSvb4zf5ykB",
        "outputId": "eeded1c9-3c5f-4cc8-eb23-02f66b3e0fbb"
      },
      "outputs": [],
      "source": [
        "from IPython.display import Image, display\n",
        "results_file = f\"{project_dir}/runs/detect/license-plate-finetune-v1n/results.png\"\n",
        "display(Image(filename=results_file))"
      ]
    },
    {
      "cell_type": "markdown",
      "metadata": {
        "id": "losjS_aM547D"
      },
      "source": [
        "# Convert To ONNX"
      ]
    },
    {
      "cell_type": "code",
      "execution_count": null,
      "metadata": {
        "id": "PmN0rOetr4wH"
      },
      "outputs": [],
      "source": [
        "!pwd"
      ]
    },
    {
      "cell_type": "code",
      "execution_count": null,
      "metadata": {
        "colab": {
          "base_uri": "https://localhost:8080/"
        },
        "id": "NtpFYEmEslf-",
        "outputId": "17a0f935-623b-4bc3-f08a-d3690e5ecffe"
      },
      "outputs": [],
      "source": [
        "!pip install onnxsim"
      ]
    },
    {
      "cell_type": "code",
      "execution_count": null,
      "metadata": {
        "id": "2AhMqcX5x9Y-"
      },
      "outputs": [],
      "source": [
        "model_name = \"\""
      ]
    },
    {
      "cell_type": "code",
      "execution_count": null,
      "metadata": {
        "id": "6e7r_s2ws96W"
      },
      "outputs": [],
      "source": [
        "from ultralytics import YOLO\n",
        "import os\n",
        "import shutil\n",
        "\n",
        "project_dir = \"/content/drive/MyDrive/Colab Notebooks/Computer Vision Workshop/License Plate Detection\"\n",
        "model_path = os.path.join(project_dir, f\"runs/detect/{model_name}/weights/best.pt\")\n",
        "output_path = os.path.join(project_dir, f\"runs/detect/{model_name}/weights/{model_name}.onnx\")\n"
      ]
    },
    {
      "cell_type": "code",
      "execution_count": null,
      "metadata": {
        "id": "e0AVeJobxzpm"
      },
      "outputs": [],
      "source": [
        "model_path"
      ]
    },
    {
      "cell_type": "code",
      "execution_count": null,
      "metadata": {
        "id": "rE3b2v8Ux2ME"
      },
      "outputs": [],
      "source": [
        "output_path"
      ]
    },
    {
      "cell_type": "code",
      "execution_count": null,
      "metadata": {
        "id": "YLoRuDqGtyKB"
      },
      "outputs": [],
      "source": [
        "# load best.pt model\n",
        "model = YOLO(model_path)\n",
        "\n",
        "# export\n",
        "result = model.export(format=\"onnx\", dynamic=True, simplify=True)\n",
        "\n",
        "# move .onnx file to output path\n",
        "default_output = result  # default is .onnx path\n",
        "shutil.move(default_output, output_path)"
      ]
    }
  ],
  "metadata": {
    "accelerator": "GPU",
    "colab": {
      "gpuType": "A100",
      "provenance": []
    },
    "kernelspec": {
      "display_name": "Python 3",
      "name": "python3"
    },
    "language_info": {
      "name": "python"
    }
  },
  "nbformat": 4,
  "nbformat_minor": 0
}
